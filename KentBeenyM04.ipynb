{
 "cells": [
  {
   "cell_type": "code",
   "execution_count": 34,
   "id": "fc8ada93",
   "metadata": {},
   "outputs": [
    {
     "name": "stdout",
     "output_type": "stream",
     "text": [
      "Open 9-5 daily\n"
     ]
    }
   ],
   "source": [
    "#11.1 part 2\n",
    "import zoo\n",
    "\n",
    "zoo.hours()"
   ]
  },
  {
   "cell_type": "code",
   "execution_count": 5,
   "id": "553b20f3",
   "metadata": {},
   "outputs": [
    {
     "name": "stdout",
     "output_type": "stream",
     "text": [
      "Open 9-5 daily\n"
     ]
    }
   ],
   "source": [
    "#11.2\n",
    "import zoo as menagerie\n",
    "menagerie.hours()"
   ]
  },
  {
   "cell_type": "code",
   "execution_count": 1,
   "id": "978e1e73",
   "metadata": {},
   "outputs": [
    {
     "name": "stdout",
     "output_type": "stream",
     "text": [
      "('title', 'author', 'year')\n",
      "('The Weirdstone of Brisingamen', 'Alan Garner', 1960)\n",
      "('Perdido Street Station', 'China MiÃ©ville', 2000)\n",
      "('Thud!', 'Terry Pratchett', 2005)\n",
      "('The Spellman Files', 'Lisa Lutz', 2007)\n",
      "('Small Gods', 'Terry Pratchett', 1992)\n"
     ]
    }
   ],
   "source": [
    "#16.3\n",
    "#books2.csv file created, it contains:\n",
    "\n",
    "#title,author,year\n",
    "#The Weirdstone of Brisingamen,Alan Garner,1960\n",
    "#Perdido Street Station,China Miéville,2000\n",
    "#Thud!,Terry Pratchett,2005\n",
    "#The Spellman Files,Lisa Lutz,2007\n",
    "#Small Gods,Terry Pratchett,1992\n",
    "\n",
    "#16.4 Use the sqlite3 module to create a SQLite database called books.db \n",
    "#and a table called books with these fields: \n",
    "#title (text), author (text), and year (integer).\n",
    "import sqlite3\n",
    "conn = sqlite3.connect('books.db')\n",
    "cursor = conn.cursor()\n",
    "cursor.execute('''CREATE TABLE IF NOT EXISTS books\n",
    "(title VARCHAR(30) PRIMARY KEY, \n",
    "author VARCHAR(30),\n",
    "year INT)''')\n",
    "\n",
    "#16.5 Read books2.csv and insert its data into the book table.\n",
    "import csv\n",
    "file = open('books2.csv')\n",
    "contents = csv.reader(file)\n",
    "insert_records = \"INSERT INTO books (title, author, year) VALUES(?, ?,?)\"\n",
    "cursor.executemany(insert_records, contents)\n",
    "\n",
    "select_all = \"SELECT * FROM books\"\n",
    "rows = cursor.execute(select_all).fetchall()\n",
    "\n",
    "for r in rows:\n",
    "    print(r)\n",
    "    \n",
    "conn.commit()\n",
    "conn.close()"
   ]
  },
  {
   "cell_type": "code",
   "execution_count": 28,
   "id": "2364fcf9",
   "metadata": {},
   "outputs": [
    {
     "name": "stdout",
     "output_type": "stream",
     "text": [
      "Perdido Street Station\n",
      "Small Gods\n",
      "The Spellman Files\n",
      "The Weirdstone of Brisingamen\n",
      "Thud!\n"
     ]
    }
   ],
   "source": [
    "#16.8 Use the sqlalchemy module to connect to the sqlite3 database books.db\n",
    "#that you just made in exercise 16.4. As in 16.6, select and print the \n",
    "#title column from the book table in alphabetical order.\n",
    "import sqlite3\n",
    "import sqlalchemy as sa\n",
    "engine = sa.create_engine('sqlite:///books.db')\n",
    "conn = engine.connect()\n",
    "#everything above here seems to work\n",
    "\n",
    "#select_title = \"SELECT title FROM books\"\n",
    "select_title = \"\"\"SELECT title FROM books WHERE NOT \\\"'title'\\\" ORDER BY title\"\"\"\n",
    "rows = conn.execute(select_title).fetchall()\n",
    "for r in rows:\n",
    "    holder = str(r).strip(\"('\")\n",
    "    holder = holder.strip(\"'',)\")\n",
    "    if holder != 'title':\n",
    "        print(holder)\n",
    "    #print(str(r).strip(\"('\")) \n",
    "    \n",
    "###runner = conn.connect()\n",
    "###select_books = \"SELECT title FROM books\"\n",
    "###title_results=runner.execute(books.select_books)\n",
    "###rows = title_results.fetchall()\n",
    "###print(rows)"
   ]
  }
 ],
 "metadata": {
  "kernelspec": {
   "display_name": "Python 3 (ipykernel)",
   "language": "python",
   "name": "python3"
  },
  "language_info": {
   "codemirror_mode": {
    "name": "ipython",
    "version": 3
   },
   "file_extension": ".py",
   "mimetype": "text/x-python",
   "name": "python",
   "nbconvert_exporter": "python",
   "pygments_lexer": "ipython3",
   "version": "3.11.5"
  }
 },
 "nbformat": 4,
 "nbformat_minor": 5
}
